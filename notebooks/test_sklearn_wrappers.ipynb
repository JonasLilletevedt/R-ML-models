{
 "cells": [
  {
   "cell_type": "markdown",
   "id": "d96456a0",
   "metadata": {},
   "source": [
    "## Testing KNN wrapper"
   ]
  },
  {
   "cell_type": "code",
   "execution_count": 23,
   "id": "e9c676f7",
   "metadata": {},
   "outputs": [
    {
     "name": "stdout",
     "output_type": "stream",
     "text": [
      "/home/jonaslilletvedt/miniconda3/envs/rust-ml/bin/python\n",
      "['/home/jonaslilletvedt/miniconda3/envs/rust-ml/lib/python311.zip', '/home/jonaslilletvedt/miniconda3/envs/rust-ml/lib/python3.11', '/home/jonaslilletvedt/miniconda3/envs/rust-ml/lib/python3.11/lib-dynload', '', '/home/jonaslilletvedt/miniconda3/envs/rust-ml/lib/python3.11/site-packages']\n"
     ]
    }
   ],
   "source": [
    "import sys\n",
    "print(sys.executable)\n",
    "print(sys.path)"
   ]
  },
  {
   "cell_type": "code",
   "execution_count": null,
   "id": "f578acdc",
   "metadata": {},
   "outputs": [
    {
     "ename": "ImportError",
     "evalue": "attempted relative import with no known parent package",
     "output_type": "error",
     "traceback": [
      "\u001b[31m---------------------------------------------------------------------------\u001b[39m",
      "\u001b[31mImportError\u001b[39m                               Traceback (most recent call last)",
      "\u001b[36mCell\u001b[39m\u001b[36m \u001b[39m\u001b[32mIn[24]\u001b[39m\u001b[32m, line 8\u001b[39m\n\u001b[32m      5\u001b[39m \u001b[38;5;28;01mimport\u001b[39;00m\u001b[38;5;250m \u001b[39m\u001b[34;01mnumpy\u001b[39;00m\u001b[38;5;250m \u001b[39m\u001b[38;5;28;01mas\u001b[39;00m\u001b[38;5;250m \u001b[39m\u001b[34;01mnp\u001b[39;00m\n\u001b[32m      7\u001b[39m \u001b[38;5;66;03m# Import your new scikit-learn compatible class\u001b[39;00m\n\u001b[32m----> \u001b[39m\u001b[32m8\u001b[39m \u001b[38;5;28;01mfrom\u001b[39;00m\u001b[38;5;250m \u001b[39m\u001b[34;01m.\u001b[39;00m\u001b[34;01m.\u001b[39;00m\u001b[38;5;250m \u001b[39m\u001b[38;5;28;01mimport\u001b[39;00m KNNClassifier\n\u001b[32m     10\u001b[39m \u001b[38;5;66;03m# 1. Generate some data\u001b[39;00m\n\u001b[32m     11\u001b[39m X, y = make_classification(n_samples=\u001b[32m100\u001b[39m, n_features=\u001b[32m10\u001b[39m, random_state=\u001b[32m42\u001b[39m)\n",
      "\u001b[31mImportError\u001b[39m: attempted relative import with no known parent package"
     ]
    }
   ],
   "source": [
    "from sklearn.model_selection import GridSearchCV\n",
    "from sklearn.datasets import make_classification\n",
    "from sklearn.pipeline import Pipeline\n",
    "from sklearn.preprocessing import StandardScaler\n",
    "import numpy as np\n",
    "\n",
    "# Import your new scikit-learn compatible class\n",
    "from ..wrapper import KNNClassifier\n",
    "\n",
    "# 1. Generate some data\n",
    "X, y = make_classification(n_samples=100, n_features=10, random_state=42)\n",
    "y = y.astype(np.float64)\n",
    "\n",
    "# 2. Use with GridSearchCV\n",
    "params = {\"k\": [3, 5, 7, 9]}\n",
    "knn = KNNClassifier()\n",
    "grid_search = GridSearchCV(knn, params, cv=5)\n",
    "grid_search.fit(X, y)\n",
    "\n",
    "print(f\"Best k found by GridSearchCV: {grid_search.best_params_}\")\n",
    "\n",
    "# 3. Use within a Pipeline\n",
    "pipe = Pipeline(\n",
    "    [\n",
    "        (\"scaler\", StandardScaler()),\n",
    "        (\"knn\", KNNClassifier(k=grid_search.best_params_[\"k\"])),\n",
    "    ]\n",
    ")\n",
    "\n",
    "pipe.fit(X, y)"
   ]
  }
 ],
 "metadata": {
  "kernelspec": {
   "display_name": "rust-ml",
   "language": "python",
   "name": "python3"
  },
  "language_info": {
   "codemirror_mode": {
    "name": "ipython",
    "version": 3
   },
   "file_extension": ".py",
   "mimetype": "text/x-python",
   "name": "python",
   "nbconvert_exporter": "python",
   "pygments_lexer": "ipython3",
   "version": "3.11.9"
  }
 },
 "nbformat": 4,
 "nbformat_minor": 5
}
