{
 "cells": [
  {
   "cell_type": "code",
   "execution_count": null,
   "id": "4ae7fd7c",
   "metadata": {},
   "outputs": [
    {
     "data": {
      "text/plain": [
       "<module 'Xmodels' from '/home/jonaslilletvedt/miniconda3/envs/rust-ml/lib/python3.11/site-packages/Xmodels/__init__.py'>"
      ]
     },
     "execution_count": 20,
     "metadata": {},
     "output_type": "execute_result"
    }
   ],
   "source": [
    "import importlib\n",
    "import Xmodels\n",
    "import numpy as np\n",
    "importlib.reload(Xmodels)"
   ]
  },
  {
   "cell_type": "code",
   "execution_count": 21,
   "id": "fca12e2e",
   "metadata": {},
   "outputs": [],
   "source": [
    "# Create test data\n",
    "X_train = np.array([[1.0, 2.0], [3.0, 4.0], [5.0, 6.0], [7.0, 8.0]], dtype=np.float64)\n",
    "y_train = np.array([10.0, 20.0, 30.0, 40.0], dtype=np.float64)\n",
    "X_test = np.array([[2.0, 3.0], [6.0, 7.0]], dtype=np.float64)"
   ]
  },
  {
   "cell_type": "code",
   "execution_count": 22,
   "id": "3a8084d2",
   "metadata": {},
   "outputs": [
    {
     "name": "stdout",
     "output_type": "stream",
     "text": [
      "Training data shape: (4, 2)\n",
      "Training labels shape: (4,)\n",
      "Test data shape: (2, 2)\n"
     ]
    }
   ],
   "source": [
    "print(\"Training data shape:\", X_train.shape)\n",
    "print(\"Training labels shape:\", y_train.shape)\n",
    "print(\"Test data shape:\", X_test.shape)"
   ]
  },
  {
   "cell_type": "code",
   "execution_count": 23,
   "id": "0e14745f",
   "metadata": {},
   "outputs": [
    {
     "name": "stdout",
     "output_type": "stream",
     "text": [
      "Model fitted successfully!\n"
     ]
    },
    {
     "name": "stderr",
     "output_type": "stream",
     "text": [
      "\n",
      "thread '<unnamed>' panicked at /home/jonaslilletvedt/.local/share/cargo/registry/src/index.crates.io-1949cf8c6b5b557f/ndarray-0.16.1/src/lib.rs:1551:13:\n",
      "ndarray: could not broadcast array from shape: [4, 2] to: [4]\n"
     ]
    },
    {
     "ename": "PanicException",
     "evalue": "ndarray: could not broadcast array from shape: [4, 2] to: [4]",
     "output_type": "error",
     "traceback": [
      "\u001b[31m---------------------------------------------------------------------------\u001b[39m",
      "\u001b[31mPanicException\u001b[39m                            Traceback (most recent call last)",
      "\u001b[36mCell\u001b[39m\u001b[36m \u001b[39m\u001b[32mIn[23]\u001b[39m\u001b[32m, line 9\u001b[39m\n\u001b[32m      6\u001b[39m \u001b[38;5;28mprint\u001b[39m(\u001b[33m\"\u001b[39m\u001b[33mModel fitted successfully!\u001b[39m\u001b[33m\"\u001b[39m)\n\u001b[32m      8\u001b[39m \u001b[38;5;66;03m# Make predictions\u001b[39;00m\n\u001b[32m----> \u001b[39m\u001b[32m9\u001b[39m predictions = \u001b[43mknn\u001b[49m\u001b[43m.\u001b[49m\u001b[43mpredict\u001b[49m\u001b[43m(\u001b[49m\u001b[43mX_test\u001b[49m\u001b[43m)\u001b[49m\n\u001b[32m     10\u001b[39m \u001b[38;5;28mprint\u001b[39m(\u001b[33m\"\u001b[39m\u001b[33mPredictions:\u001b[39m\u001b[33m\"\u001b[39m, predictions)\n\u001b[32m     11\u001b[39m \u001b[38;5;28mprint\u001b[39m(\u001b[33m\"\u001b[39m\u001b[33mPredictions shape:\u001b[39m\u001b[33m\"\u001b[39m, predictions.shape)\n",
      "\u001b[31mPanicException\u001b[39m: ndarray: could not broadcast array from shape: [4, 2] to: [4]"
     ]
    }
   ],
   "source": [
    "\n",
    "# Create KNN instance for regression\n",
    "knn = Xmodels.MyRustKNN(k=2, mode=Xmodels.Mode.Regression)\n",
    "\n",
    "# Fit the model\n",
    "knn.fit(X_train, y_train)\n",
    "print(\"Model fitted successfully!\")\n",
    "\n",
    "# Make predictions\n",
    "predictions = knn.predict(X_test)\n",
    "print(\"Predictions:\", predictions)\n",
    "print(\"Predictions shape:\", predictions.shape)"
   ]
  }
 ],
 "metadata": {
  "kernelspec": {
   "display_name": "rust-ml",
   "language": "python",
   "name": "python3"
  },
  "language_info": {
   "codemirror_mode": {
    "name": "ipython",
    "version": 3
   },
   "file_extension": ".py",
   "mimetype": "text/x-python",
   "name": "python",
   "nbconvert_exporter": "python",
   "pygments_lexer": "ipython3",
   "version": "3.11.9"
  }
 },
 "nbformat": 4,
 "nbformat_minor": 5
}
