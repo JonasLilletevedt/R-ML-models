{
 "cells": [
  {
   "cell_type": "code",
   "execution_count": 1,
   "id": "4ae7fd7c",
   "metadata": {},
   "outputs": [
    {
     "data": {
      "text/plain": [
       "<module 'rust_core' from '/home/jonaslilletvedt/miniconda3/envs/rust-ml/lib/python3.11/site-packages/rust_core/__init__.py'>"
      ]
     },
     "execution_count": 1,
     "metadata": {},
     "output_type": "execute_result"
    }
   ],
   "source": [
    "import importlib\n",
    "import rust_core\n",
    "import numpy as np\n",
    "importlib.reload(rust_core)"
   ]
  },
  {
   "cell_type": "code",
   "execution_count": 2,
   "id": "fca12e2e",
   "metadata": {},
   "outputs": [],
   "source": [
    "# Create test data\n",
    "X_train = np.array([[1.0, 2.0], [3.0, 4.0], [5.0, 6.0], [7.0, 8.0]], dtype=np.float64)\n",
    "y_train = np.array([10.0, 20.0, 30.0, 40.0], dtype=np.float64)\n",
    "X_test = np.array([[2.0, 3.0], [6.0, 7.0]], dtype=np.float64)\n",
    "\n",
    "X_train_scaled = X_train / np.linalg.norm(X_train, axis=0)\n",
    "X_test_scaled = X_test / np.linalg.norm(X_test, axis=0)"
   ]
  },
  {
   "cell_type": "code",
   "execution_count": 3,
   "id": "3a8084d2",
   "metadata": {},
   "outputs": [
    {
     "name": "stdout",
     "output_type": "stream",
     "text": [
      "Training data shape: (4, 2)\n",
      "Training labels shape: (4,)\n",
      "Test data shape: (2, 2)\n"
     ]
    }
   ],
   "source": [
    "print(\"Training data shape:\", X_train.shape)\n",
    "print(\"Training labels shape:\", y_train.shape)\n",
    "print(\"Test data shape:\", X_test.shape)"
   ]
  },
  {
   "cell_type": "code",
   "execution_count": 4,
   "id": "0e14745f",
   "metadata": {},
   "outputs": [
    {
     "name": "stdout",
     "output_type": "stream",
     "text": [
      "Model fitted successfully!\n",
      "Predictions: [10.52323194 12.58756026 14.65188857 16.71621689]\n",
      "Predictions shape: (4,)\n"
     ]
    }
   ],
   "source": [
    "\n",
    "# Create KNN instance for regression\n",
    "linear_regression = rust_core.MyRustLinearRegression(learning_rate=0.05, iterations=10, mode=rust_core.Mode.Regression)\n",
    "\n",
    "# Fit the model\n",
    "linear_regression.fit(X_train_scaled, y_train)\n",
    "print(\"Model fitted successfully!\")\n",
    "\n",
    "# Make predictions\n",
    "predictions = linear_regression.predict(X_test_scaled)\n",
    "print(\"Predictions:\", predictions)\n",
    "print(\"Predictions shape:\", predictions.shape)"
   ]
  },
  {
   "cell_type": "code",
   "execution_count": 5,
   "id": "9f5eba3a",
   "metadata": {},
   "outputs": [
    {
     "name": "stdout",
     "output_type": "stream",
     "text": [
      "Model fitted successfully!\n",
      "Predictions: [10.30646307 20.12274635 29.93902963 39.75531292]\n",
      "Predictions shape: (4,)\n"
     ]
    }
   ],
   "source": [
    "\n",
    "# Create KNN instance for regression\n",
    "linear_regression = rust_core.MyRustLinearRegression(learning_rate=0.05, iterations=1000, mode=rust_core.Mode.Regression)\n",
    "\n",
    "# Fit the model\n",
    "linear_regression.fit(X_train_scaled, y_train)\n",
    "print(\"Model fitted successfully!\")\n",
    "\n",
    "# Make predictions\n",
    "predictions = linear_regression.predict(X_test_scaled)\n",
    "print(\"Predictions:\", predictions)\n",
    "print(\"Predictions shape:\", predictions.shape)"
   ]
  },
  {
   "cell_type": "code",
   "execution_count": 6,
   "id": "6a3a177f",
   "metadata": {},
   "outputs": [
    {
     "name": "stdout",
     "output_type": "stream",
     "text": [
      "Model fitted successfully!\n",
      "Predictions: [10. 20. 30. 40.]\n",
      "Predictions shape: (4,)\n"
     ]
    }
   ],
   "source": [
    "\n",
    "# Create KNN instance for regression\n",
    "linear_regression = rust_core.MyRustLinearRegression(learning_rate=0.05, iterations=100000, mode=rust_core.Mode.Regression)\n",
    "\n",
    "# Fit the model\n",
    "linear_regression.fit(X_train_scaled, y_train)\n",
    "print(\"Model fitted successfully!\")\n",
    "\n",
    "# Make predictions\n",
    "predictions = linear_regression.predict(X_test_scaled)\n",
    "print(\"Predictions:\", predictions)\n",
    "print(\"Predictions shape:\", predictions.shape)"
   ]
  }
 ],
 "metadata": {
  "kernelspec": {
   "display_name": "rust-ml",
   "language": "python",
   "name": "python3"
  },
  "language_info": {
   "codemirror_mode": {
    "name": "ipython",
    "version": 3
   },
   "file_extension": ".py",
   "mimetype": "text/x-python",
   "name": "python",
   "nbconvert_exporter": "python",
   "pygments_lexer": "ipython3",
   "version": "3.11.9"
  }
 },
 "nbformat": 4,
 "nbformat_minor": 5
}
