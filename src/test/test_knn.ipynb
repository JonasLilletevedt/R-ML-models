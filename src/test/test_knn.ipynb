{
 "cells": [
  {
   "cell_type": "code",
   "execution_count": null,
   "id": "4ae7fd7c",
   "metadata": {},
   "outputs": [
    {
     "ename": "NameError",
     "evalue": "name 'Rmodels' is not defined",
     "output_type": "error",
     "traceback": [
      "\u001b[31m---------------------------------------------------------------------------\u001b[39m",
      "\u001b[31mNameError\u001b[39m                                 Traceback (most recent call last)",
      "\u001b[36mCell\u001b[39m\u001b[36m \u001b[39m\u001b[32mIn[3]\u001b[39m\u001b[32m, line 4\u001b[39m\n\u001b[32m      2\u001b[39m \u001b[38;5;28;01mimport\u001b[39;00m\u001b[38;5;250m \u001b[39m\u001b[34;01mXmodels\u001b[39;00m\n\u001b[32m      3\u001b[39m \u001b[38;5;28;01mimport\u001b[39;00m\u001b[38;5;250m \u001b[39m\u001b[34;01mnumpy\u001b[39;00m\u001b[38;5;250m \u001b[39m\u001b[38;5;28;01mas\u001b[39;00m\u001b[38;5;250m \u001b[39m\u001b[34;01mnp\u001b[39;00m\n\u001b[32m----> \u001b[39m\u001b[32m4\u001b[39m importlib.reload(\u001b[43mRmodels\u001b[49m)\n",
      "\u001b[31mNameError\u001b[39m: name 'Rmodels' is not defined"
     ]
    }
   ],
   "source": [
    "import importlib\n",
    "import Rmodels\n",
    "import numpy as np\n",
    "importlib.reload(Rmodels)"
   ]
  },
  {
   "cell_type": "code",
   "execution_count": null,
   "id": "fca12e2e",
   "metadata": {},
   "outputs": [],
   "source": [
    "# Create test data\n",
    "X_train = np.array([[1.0, 2.0], [3.0, 4.0], [5.0, 6.0], [7.0, 8.0]], dtype=np.float64)\n",
    "y_train = np.array([10.0, 20.0, 30.0, 40.0], dtype=np.float64)\n",
    "X_test = np.array([[2.0, 3.0], [6.0, 7.0]], dtype=np.float64)"
   ]
  },
  {
   "cell_type": "code",
   "execution_count": null,
   "id": "3a8084d2",
   "metadata": {},
   "outputs": [
    {
     "name": "stdout",
     "output_type": "stream",
     "text": [
      "Training data shape: (4, 2)\n",
      "Training labels shape: (4,)\n",
      "Test data shape: (2, 2)\n"
     ]
    }
   ],
   "source": [
    "print(\"Training data shape:\", X_train.shape)\n",
    "print(\"Training labels shape:\", y_train.shape)\n",
    "print(\"Test data shape:\", X_test.shape)"
   ]
  },
  {
   "cell_type": "code",
   "execution_count": null,
   "id": "0e14745f",
   "metadata": {},
   "outputs": [
    {
     "name": "stdout",
     "output_type": "stream",
     "text": [
      "Model fitted successfully!\n",
      "Predictions: [15. 35.]\n",
      "Predictions shape: (2,)\n"
     ]
    }
   ],
   "source": [
    "\n",
    "# Create KNN instance for regression\n",
    "knn = Rmodels.MyRustKNN(k=2, mode=Rmodels.Mode.Regression)\n",
    "\n",
    "# Fit the model\n",
    "knn.fit(X_train, y_train)\n",
    "print(\"Model fitted successfully!\")\n",
    "\n",
    "# Make predictions\n",
    "predictions = knn.predict(X_test)\n",
    "print(\"Predictions:\", predictions)\n",
    "print(\"Predictions shape:\", predictions.shape)"
   ]
  }
 ],
 "metadata": {
  "kernelspec": {
   "display_name": "rust-ml",
   "language": "python",
   "name": "python3"
  },
  "language_info": {
   "codemirror_mode": {
    "name": "ipython",
    "version": 3
   },
   "file_extension": ".py",
   "mimetype": "text/x-python",
   "name": "python",
   "nbconvert_exporter": "python",
   "pygments_lexer": "ipython3",
   "version": "3.11.9"
  }
 },
 "nbformat": 4,
 "nbformat_minor": 5
}
