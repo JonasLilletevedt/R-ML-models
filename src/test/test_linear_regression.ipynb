{
 "cells": [
  {
   "cell_type": "code",
   "execution_count": 10,
   "id": "4ae7fd7c",
   "metadata": {},
   "outputs": [
    {
     "data": {
      "text/plain": [
       "<module 'Xmodels' from '/home/jonaslilletvedt/miniconda3/envs/rust-ml/lib/python3.11/site-packages/Xmodels/__init__.py'>"
      ]
     },
     "execution_count": 10,
     "metadata": {},
     "output_type": "execute_result"
    }
   ],
   "source": [
    "import importlib\n",
    "import Xmodels\n",
    "import numpy as np\n",
    "importlib.reload(Xmodels)"
   ]
  },
  {
   "cell_type": "code",
   "execution_count": 11,
   "id": "fca12e2e",
   "metadata": {},
   "outputs": [],
   "source": [
    "# Create test data\n",
    "X_train = np.array([[1.0, 2.0], [3.0, 4.0], [5.0, 6.0], [7.0, 8.0]], dtype=np.float64)\n",
    "y_train = np.array([10.0, 20.0, 30.0, 40.0], dtype=np.float64)\n",
    "X_test = np.array([[2.0, 3.0], [6.0, 7.0]], dtype=np.float64)\n",
    "\n",
    "X_train_scaled = X_train / np.linalg.norm(X_train, axis=0)\n",
    "X_test_scaled = X_test / np.linalg.norm(X_test, axis=0)"
   ]
  },
  {
   "cell_type": "code",
   "execution_count": 12,
   "id": "3a8084d2",
   "metadata": {},
   "outputs": [
    {
     "name": "stdout",
     "output_type": "stream",
     "text": [
      "Training data shape: (4, 2)\n",
      "Training labels shape: (4,)\n",
      "Test data shape: (2, 2)\n"
     ]
    }
   ],
   "source": [
    "print(\"Training data shape:\", X_train.shape)\n",
    "print(\"Training labels shape:\", y_train.shape)\n",
    "print(\"Test data shape:\", X_test.shape)"
   ]
  },
  {
   "cell_type": "code",
   "execution_count": null,
   "id": "0e14745f",
   "metadata": {},
   "outputs": [
    {
     "name": "stdout",
     "output_type": "stream",
     "text": [
      "Model fitted successfully!\n",
      "Predictions: [10. 20. 30. 40.]\n",
      "Predictions shape: (4,)\n"
     ]
    }
   ],
   "source": [
    "\n",
    "# Create KNN instance for regression\n",
    "linear_regression = Xmodels.MyRustLinearRegression(learning_rate=0.05, iterations=10, mode=Xmodels.Mode.Regression)\n",
    "\n",
    "# Fit the model\n",
    "linear_regression.fit(X_train_scaled, y_train)\n",
    "print(\"Model fitted successfully!\")\n",
    "\n",
    "# Make predictions\n",
    "predictions = linear_regression.predict(X_test_scaled)\n",
    "print(\"Predictions:\", predictions)\n",
    "print(\"Predictions shape:\", predictions.shape)"
   ]
  }
 ],
 "metadata": {
  "kernelspec": {
   "display_name": "rust-ml",
   "language": "python",
   "name": "python3"
  },
  "language_info": {
   "codemirror_mode": {
    "name": "ipython",
    "version": 3
   },
   "file_extension": ".py",
   "mimetype": "text/x-python",
   "name": "python",
   "nbconvert_exporter": "python",
   "pygments_lexer": "ipython3",
   "version": "3.11.9"
  }
 },
 "nbformat": 4,
 "nbformat_minor": 5
}
